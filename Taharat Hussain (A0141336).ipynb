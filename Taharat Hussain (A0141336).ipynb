{
 "cells": [
  {
   "cell_type": "markdown",
   "metadata": {},
   "source": [
    "## Taharat Hussain (A0141336)"
   ]
  },
  {
   "cell_type": "markdown",
   "metadata": {},
   "source": [
    "## Dataset Description\n",
    "\n",
    "\n",
    "\n",
    "\n",
    "### URL : https://archive.ics.uci.edu/ml/datasets/Bank+Marketing</br>\n",
    "\n",
    "\n",
    "### Input variables:\n",
    "###  bank client data:\n",
    "<br>1 - age (numeric)\n",
    "<br>2 - job : type of job (categorical: 'admin.','blue-collar','entrepreneur','housemaid','management','retired','self-employed','services','student','technician','unemployed','unknown')\n",
    "<br>3 - marital : marital status (categorical: 'divorced','married','single','unknown'; note: 'divorced' means divorced or widowed)\n",
    "<br>4 - education (categorical: 'basic.4y','basic.6y','basic.9y','high.school','illiterate','professional.course','university.degree','unknown')\n",
    "<br>5 - default: has credit in default? (categorical: 'no','yes','unknown')\n",
    "<br>6 - housing: has housing loan? (categorical: 'no','yes','unknown')\n",
    "<br>7 - loan: has personal loan? (categorical: 'no','yes','unknown')\n",
    "### related with the last contact of the current campaign:\n",
    "<br>8 - contact: contact communication type (categorical: 'cellular','telephone')\n",
    "<br>9 - month: last contact month of year (categorical: 'jan', 'feb', 'mar', ..., 'nov', 'dec')\n",
    "<br>10 - day_of_week: last contact day of the week (categorical: 'mon','tue','wed','thu','fri')\n",
    "<br>11 - duration: last contact duration, in seconds (numeric). Important note: this attribute highly affects the output target (e.g., if duration=0 then y='no'). Yet, the duration is not known before a call is performed. Also, after the end of the call y is obviously known. Thus, this input should only be included for benchmark purposes and should be discarded if the intention is to have a realistic predictive model.\n",
    "### other attributes:\n",
    "<br>12 - campaign: number of contacts performed during this campaign and for this client (numeric, includes last contact)\n",
    "<br>13 - pdays: number of days that passed by after the client was last contacted from a previous campaign (numeric; 999 means client was not previously contacted)\n",
    "<br>14 - previous: number of contacts performed before this campaign and for this client (numeric)\n",
    "<br>15 - poutcome: outcome of the previous marketing campaign (categorical: 'failure','nonexistent','success')\n",
    "\n",
    "### Output variable (desired target):\n",
    "<br>21 - y - has the client subscribed a term deposit? (binary: 'yes','no')"
   ]
  },
  {
   "cell_type": "code",
   "execution_count": null,
   "metadata": {},
   "outputs": [],
   "source": []
  },
  {
   "cell_type": "markdown",
   "metadata": {},
   "source": [
    "### Problem Description\n",
    "\n",
    "Predict whether customer is going to subscribe to Term Deposit or Not.\n",
    "\n",
    "### Applicable Algorithm\n",
    "\n",
    "</br>All Supervised classification algorithm are applicable to this dataset as it is a labelled data and our goal is to predict binary outcome<br>\n",
    "\n",
    "</br> Sklearn provides many classification algorithm API’s such as K-Means, Support Vector Machine, Logistic Regression, Decision Tree, Random Forest Neural Network, Naïve Bayes and many others.<br>\n",
    "\n",
    "</br> For the purpose of this paper, I restricted to only three algorithms and they are Logistic regression, Support Vector Machine and Random Forest"
   ]
  },
  {
   "cell_type": "markdown",
   "metadata": {},
   "source": [
    "#  ML Code"
   ]
  },
  {
   "cell_type": "code",
   "execution_count": null,
   "metadata": {},
   "outputs": [],
   "source": [
    "# Load necessary libraries\n",
    "import pandas as pd\n",
    "import numpy as np\n",
    "import matplotlib.pyplot as plt\n",
    "import seaborn as sns\n",
    "\n",
    "from sklearn.model_selection import train_test_split\n",
    "from sklearn.base import BaseEstimator, TransformerMixin\n",
    "from sklearn.preprocessing import StandardScaler\n",
    "from sklearn.preprocessing import OneHotEncoder\n",
    "from sklearn.linear_model import LogisticRegression\n",
    "from sklearn.metrics import classification_report\n",
    "from sklearn.metrics import confusion_matrix\n",
    "from sklearn.svm import SVC\n",
    "from sklearn.ensemble import RandomForestClassifier\n",
    "sns.set(font_scale=1.1)\n",
    "pd.options.display.max_columns=200"
   ]
  },
  {
   "cell_type": "markdown",
   "metadata": {},
   "source": [
    "## Load Data"
   ]
  },
  {
   "cell_type": "code",
   "execution_count": 2,
   "metadata": {},
   "outputs": [
    {
     "data": {
      "text/html": [
       "<div>\n",
       "<style scoped>\n",
       "    .dataframe tbody tr th:only-of-type {\n",
       "        vertical-align: middle;\n",
       "    }\n",
       "\n",
       "    .dataframe tbody tr th {\n",
       "        vertical-align: top;\n",
       "    }\n",
       "\n",
       "    .dataframe thead th {\n",
       "        text-align: right;\n",
       "    }\n",
       "</style>\n",
       "<table border=\"1\" class=\"dataframe\">\n",
       "  <thead>\n",
       "    <tr style=\"text-align: right;\">\n",
       "      <th></th>\n",
       "      <th>age</th>\n",
       "      <th>job</th>\n",
       "      <th>marital</th>\n",
       "      <th>education</th>\n",
       "      <th>default</th>\n",
       "      <th>balance</th>\n",
       "      <th>housing</th>\n",
       "      <th>loan</th>\n",
       "      <th>contact</th>\n",
       "      <th>day</th>\n",
       "      <th>month</th>\n",
       "      <th>duration</th>\n",
       "      <th>campaign</th>\n",
       "      <th>pdays</th>\n",
       "      <th>previous</th>\n",
       "      <th>poutcome</th>\n",
       "      <th>y</th>\n",
       "    </tr>\n",
       "  </thead>\n",
       "  <tbody>\n",
       "    <tr>\n",
       "      <th>0</th>\n",
       "      <td>58</td>\n",
       "      <td>management</td>\n",
       "      <td>married</td>\n",
       "      <td>tertiary</td>\n",
       "      <td>no</td>\n",
       "      <td>2143</td>\n",
       "      <td>yes</td>\n",
       "      <td>no</td>\n",
       "      <td>unknown</td>\n",
       "      <td>5</td>\n",
       "      <td>may</td>\n",
       "      <td>261</td>\n",
       "      <td>1</td>\n",
       "      <td>-1</td>\n",
       "      <td>0</td>\n",
       "      <td>unknown</td>\n",
       "      <td>no</td>\n",
       "    </tr>\n",
       "    <tr>\n",
       "      <th>1</th>\n",
       "      <td>44</td>\n",
       "      <td>technician</td>\n",
       "      <td>single</td>\n",
       "      <td>secondary</td>\n",
       "      <td>no</td>\n",
       "      <td>29</td>\n",
       "      <td>yes</td>\n",
       "      <td>no</td>\n",
       "      <td>unknown</td>\n",
       "      <td>5</td>\n",
       "      <td>may</td>\n",
       "      <td>151</td>\n",
       "      <td>1</td>\n",
       "      <td>-1</td>\n",
       "      <td>0</td>\n",
       "      <td>unknown</td>\n",
       "      <td>no</td>\n",
       "    </tr>\n",
       "    <tr>\n",
       "      <th>2</th>\n",
       "      <td>33</td>\n",
       "      <td>entrepreneur</td>\n",
       "      <td>married</td>\n",
       "      <td>secondary</td>\n",
       "      <td>no</td>\n",
       "      <td>2</td>\n",
       "      <td>yes</td>\n",
       "      <td>yes</td>\n",
       "      <td>unknown</td>\n",
       "      <td>5</td>\n",
       "      <td>may</td>\n",
       "      <td>76</td>\n",
       "      <td>1</td>\n",
       "      <td>-1</td>\n",
       "      <td>0</td>\n",
       "      <td>unknown</td>\n",
       "      <td>no</td>\n",
       "    </tr>\n",
       "  </tbody>\n",
       "</table>\n",
       "</div>"
      ],
      "text/plain": [
       "   age           job  marital  education default  balance housing loan  \\\n",
       "0   58    management  married   tertiary      no     2143     yes   no   \n",
       "1   44    technician   single  secondary      no       29     yes   no   \n",
       "2   33  entrepreneur  married  secondary      no        2     yes  yes   \n",
       "\n",
       "   contact  day month  duration  campaign  pdays  previous poutcome   y  \n",
       "0  unknown    5   may       261         1     -1         0  unknown  no  \n",
       "1  unknown    5   may       151         1     -1         0  unknown  no  \n",
       "2  unknown    5   may        76         1     -1         0  unknown  no  "
      ]
     },
     "execution_count": 2,
     "metadata": {},
     "output_type": "execute_result"
    }
   ],
   "source": [
    "# load banking market dataset\n",
    "raw_data = pd.read_csv(\"bank-full.csv\",sep=\";\")\n",
    "raw_data.head(3)"
   ]
  },
  {
   "cell_type": "code",
   "execution_count": 3,
   "metadata": {},
   "outputs": [],
   "source": [
    "## Dropping the duration variable as mentioned in the Note of data description to make ML Model more realistic\n",
    "raw_data.drop(['duration'],axis=1,inplace=True)"
   ]
  },
  {
   "cell_type": "code",
   "execution_count": 4,
   "metadata": {},
   "outputs": [
    {
     "data": {
      "text/plain": [
       "(45211, 16)"
      ]
     },
     "execution_count": 4,
     "metadata": {},
     "output_type": "execute_result"
    }
   ],
   "source": [
    "# check data shape\n",
    "raw_data.shape"
   ]
  },
  {
   "cell_type": "code",
   "execution_count": 5,
   "metadata": {},
   "outputs": [
    {
     "data": {
      "text/plain": [
       "no     0.883015\n",
       "yes    0.116985\n",
       "Name: term_deposit, dtype: float64"
      ]
     },
     "execution_count": 5,
     "metadata": {},
     "output_type": "execute_result"
    }
   ],
   "source": [
    "## rename target variable name to actual name \n",
    "raw_data.rename({'y':'term_deposit'},axis=1,inplace=True)\n",
    "\n",
    "## check target variable distribution\n",
    "raw_data['term_deposit'].value_counts(normalize=True)"
   ]
  },
  {
   "cell_type": "markdown",
   "metadata": {},
   "source": [
    "## Split data into Train & Test"
   ]
  },
  {
   "cell_type": "code",
   "execution_count": 6,
   "metadata": {},
   "outputs": [],
   "source": [
    "# traget variable is imbalance so doing straified sampling for train-test split\n",
    "raw_train, raw_test = train_test_split(raw_data, test_size=0.20,stratify=raw_data['term_deposit'], random_state=42)"
   ]
  },
  {
   "cell_type": "code",
   "execution_count": 7,
   "metadata": {},
   "outputs": [
    {
     "name": "stdout",
     "output_type": "stream",
     "text": [
      "Train shape (36168, 16), Test shpae (9043, 16)\n"
     ]
    }
   ],
   "source": [
    "print(f\"Train shape {raw_train.shape}, Test shpae {raw_test.shape}\")"
   ]
  },
  {
   "cell_type": "markdown",
   "metadata": {},
   "source": [
    "## Train Data information"
   ]
  },
  {
   "cell_type": "code",
   "execution_count": 8,
   "metadata": {},
   "outputs": [
    {
     "name": "stdout",
     "output_type": "stream",
     "text": [
      "<class 'pandas.core.frame.DataFrame'>\n",
      "Int64Index: 36168 entries, 24001 to 44229\n",
      "Data columns (total 16 columns):\n",
      " #   Column        Non-Null Count  Dtype \n",
      "---  ------        --------------  ----- \n",
      " 0   age           36168 non-null  int64 \n",
      " 1   job           36168 non-null  object\n",
      " 2   marital       36168 non-null  object\n",
      " 3   education     36168 non-null  object\n",
      " 4   default       36168 non-null  object\n",
      " 5   balance       36168 non-null  int64 \n",
      " 6   housing       36168 non-null  object\n",
      " 7   loan          36168 non-null  object\n",
      " 8   contact       36168 non-null  object\n",
      " 9   day           36168 non-null  int64 \n",
      " 10  month         36168 non-null  object\n",
      " 11  campaign      36168 non-null  int64 \n",
      " 12  pdays         36168 non-null  int64 \n",
      " 13  previous      36168 non-null  int64 \n",
      " 14  poutcome      36168 non-null  object\n",
      " 15  term_deposit  36168 non-null  object\n",
      "dtypes: int64(6), object(10)\n",
      "memory usage: 4.7+ MB\n"
     ]
    }
   ],
   "source": [
    "# check for missing value and data types\n",
    "raw_train.info()"
   ]
  },
  {
   "cell_type": "markdown",
   "metadata": {},
   "source": [
    "## Descriptive stats"
   ]
  },
  {
   "cell_type": "code",
   "execution_count": null,
   "metadata": {},
   "outputs": [],
   "source": [
    "# descriptive stats for numerical variable\n",
    "raw_train.describe()"
   ]
  },
  {
   "cell_type": "code",
   "execution_count": 10,
   "metadata": {},
   "outputs": [
    {
     "data": {
      "text/html": [
       "<div>\n",
       "<style scoped>\n",
       "    .dataframe tbody tr th:only-of-type {\n",
       "        vertical-align: middle;\n",
       "    }\n",
       "\n",
       "    .dataframe tbody tr th {\n",
       "        vertical-align: top;\n",
       "    }\n",
       "\n",
       "    .dataframe thead th {\n",
       "        text-align: right;\n",
       "    }\n",
       "</style>\n",
       "<table border=\"1\" class=\"dataframe\">\n",
       "  <thead>\n",
       "    <tr style=\"text-align: right;\">\n",
       "      <th></th>\n",
       "      <th>job</th>\n",
       "      <th>marital</th>\n",
       "      <th>education</th>\n",
       "      <th>default</th>\n",
       "      <th>housing</th>\n",
       "      <th>loan</th>\n",
       "      <th>contact</th>\n",
       "      <th>month</th>\n",
       "      <th>poutcome</th>\n",
       "      <th>term_deposit</th>\n",
       "    </tr>\n",
       "  </thead>\n",
       "  <tbody>\n",
       "    <tr>\n",
       "      <th>count</th>\n",
       "      <td>36168</td>\n",
       "      <td>36168</td>\n",
       "      <td>36168</td>\n",
       "      <td>36168</td>\n",
       "      <td>36168</td>\n",
       "      <td>36168</td>\n",
       "      <td>36168</td>\n",
       "      <td>36168</td>\n",
       "      <td>36168</td>\n",
       "      <td>36168</td>\n",
       "    </tr>\n",
       "    <tr>\n",
       "      <th>unique</th>\n",
       "      <td>12</td>\n",
       "      <td>3</td>\n",
       "      <td>4</td>\n",
       "      <td>2</td>\n",
       "      <td>2</td>\n",
       "      <td>2</td>\n",
       "      <td>3</td>\n",
       "      <td>12</td>\n",
       "      <td>4</td>\n",
       "      <td>2</td>\n",
       "    </tr>\n",
       "    <tr>\n",
       "      <th>top</th>\n",
       "      <td>blue-collar</td>\n",
       "      <td>married</td>\n",
       "      <td>secondary</td>\n",
       "      <td>no</td>\n",
       "      <td>yes</td>\n",
       "      <td>no</td>\n",
       "      <td>cellular</td>\n",
       "      <td>may</td>\n",
       "      <td>unknown</td>\n",
       "      <td>no</td>\n",
       "    </tr>\n",
       "    <tr>\n",
       "      <th>freq</th>\n",
       "      <td>7830</td>\n",
       "      <td>21771</td>\n",
       "      <td>18561</td>\n",
       "      <td>35521</td>\n",
       "      <td>20182</td>\n",
       "      <td>30355</td>\n",
       "      <td>23465</td>\n",
       "      <td>11062</td>\n",
       "      <td>29589</td>\n",
       "      <td>31937</td>\n",
       "    </tr>\n",
       "  </tbody>\n",
       "</table>\n",
       "</div>"
      ],
      "text/plain": [
       "                job  marital  education default housing   loan   contact  \\\n",
       "count         36168    36168      36168   36168   36168  36168     36168   \n",
       "unique           12        3          4       2       2      2         3   \n",
       "top     blue-collar  married  secondary      no     yes     no  cellular   \n",
       "freq           7830    21771      18561   35521   20182  30355     23465   \n",
       "\n",
       "        month poutcome term_deposit  \n",
       "count   36168    36168        36168  \n",
       "unique     12        4            2  \n",
       "top       may  unknown           no  \n",
       "freq    11062    29589        31937  "
      ]
     },
     "execution_count": 10,
     "metadata": {},
     "output_type": "execute_result"
    }
   ],
   "source": [
    "# descriptive stats for categorical variable\n",
    "raw_train.describe(include=np.object)"
   ]
  },
  {
   "cell_type": "markdown",
   "metadata": {},
   "source": [
    "## Exploratory Data Analysis"
   ]
  },
  {
   "cell_type": "code",
   "execution_count": null,
   "metadata": {},
   "outputs": [],
   "source": [
    "## Pair Plot for each numerical variables\n",
    "sns.set_context(\"paper\", font_scale=1.3)\n",
    "sns_plot= sns.pairplot(raw_train,hue='term_deposit')\n"
   ]
  },
  {
   "cell_type": "code",
   "execution_count": null,
   "metadata": {},
   "outputs": [],
   "source": [
    "# correlation plot\n",
    "corr = raw_train.corr()\n",
    "plt.figure(figsize=(8,8))\n",
    "sns.heatmap(corr,annot=True,cmap=\"YlGnBu\",annot_kws={'size': 15})"
   ]
  },
  {
   "cell_type": "code",
   "execution_count": null,
   "metadata": {},
   "outputs": [],
   "source": [
    "# checking distribution of Term Deposit\n",
    "fig = plt.figure(figsize=(6,6))\n",
    "ax = plt.subplot(111)\n",
    "raw_train['term_deposit'].value_counts().plot(kind='pie', ax=ax, autopct='%1.1f%%', startangle=270, fontsize=17)"
   ]
  },
  {
   "cell_type": "code",
   "execution_count": null,
   "metadata": {},
   "outputs": [],
   "source": [
    "# checking for extreme points\n",
    "plt.figure(figsize=(15,5))\n",
    "sns.boxplot(x='age', data=raw_train)"
   ]
  },
  {
   "cell_type": "code",
   "execution_count": null,
   "metadata": {},
   "outputs": [],
   "source": [
    "# checking for extreme points\n",
    "plt.figure(figsize=(15,5))\n",
    "sns.boxplot(x='balance', data=raw_train)"
   ]
  },
  {
   "cell_type": "code",
   "execution_count": null,
   "metadata": {},
   "outputs": [],
   "source": [
    "# checking for extreme points\n",
    "plt.figure(figsize=(15,5))\n",
    "sns.boxplot(x='campaign', data=raw_train)"
   ]
  },
  {
   "cell_type": "code",
   "execution_count": null,
   "metadata": {},
   "outputs": [],
   "source": [
    "# checking for extreme points\n",
    "plt.figure(figsize=(15,5))\n",
    "sns.boxplot(x='pdays', data=raw_train)"
   ]
  },
  {
   "cell_type": "code",
   "execution_count": null,
   "metadata": {},
   "outputs": [],
   "source": [
    "# checking for extreme points\n",
    "plt.figure(figsize=(15,5))\n",
    "sns.boxplot(x='previous', data=raw_train)"
   ]
  },
  {
   "cell_type": "code",
   "execution_count": null,
   "metadata": {},
   "outputs": [],
   "source": [
    "# checking age relationship with term deposit\n",
    "plt.figure(figsize=(15,5))\n",
    "sns.histplot(data=raw_train, x=\"age\", hue=\"term_deposit\", multiple=\"dodge\", shrink=.8, bins=8,)"
   ]
  },
  {
   "cell_type": "code",
   "execution_count": null,
   "metadata": {},
   "outputs": [],
   "source": [
    "# checking balance relationship with term deposit\n",
    "plt.figure(figsize=(15,5))\n",
    "sns.histplot(data=raw_train, x=\"balance\", hue=\"term_deposit\", multiple=\"dodge\", shrink=.8, bins=3)"
   ]
  },
  {
   "cell_type": "code",
   "execution_count": null,
   "metadata": {},
   "outputs": [],
   "source": [
    "# checking campaign relationship with term deposit\n",
    "plt.figure(figsize=(15,5))\n",
    "sns.histplot(data=raw_train, x=\"campaign\", hue=\"term_deposit\", multiple=\"dodge\", shrink=.8, bins=3)"
   ]
  },
  {
   "cell_type": "code",
   "execution_count": null,
   "metadata": {},
   "outputs": [],
   "source": [
    "# checking pdays relationship with term deposit\n",
    "plt.figure(figsize=(15,5))\n",
    "sns.histplot(data=raw_train, x=\"pdays\", hue=\"term_deposit\", multiple=\"dodge\", shrink=.8, bins=3)"
   ]
  },
  {
   "cell_type": "code",
   "execution_count": null,
   "metadata": {},
   "outputs": [],
   "source": [
    "# checking previous relationship with term deposit\n",
    "plt.figure(figsize=(15,5))\n",
    "sns.histplot(data=raw_train, x=\"previous\", hue=\"term_deposit\", multiple=\"dodge\", shrink=.8, bins=3)"
   ]
  },
  {
   "cell_type": "code",
   "execution_count": null,
   "metadata": {},
   "outputs": [],
   "source": [
    "# checking job relationship with term deposit\n",
    "plt.figure(figsize=(15,5))\n",
    "sns.countplot(y=\"job\", hue=\"term_deposit\", data=raw_train)"
   ]
  },
  {
   "cell_type": "code",
   "execution_count": null,
   "metadata": {},
   "outputs": [],
   "source": [
    "# checking marital relationship with term deposit\n",
    "plt.figure(figsize=(15,5))\n",
    "sns.countplot(y=\"marital\", hue=\"term_deposit\", data=raw_train)"
   ]
  },
  {
   "cell_type": "code",
   "execution_count": null,
   "metadata": {},
   "outputs": [],
   "source": [
    "# checking marital relationship with term deposit\n",
    "plt.figure(figsize=(15,5))\n",
    "sns.countplot(y=\"education\", hue=\"term_deposit\", data=raw_train)"
   ]
  },
  {
   "cell_type": "code",
   "execution_count": null,
   "metadata": {},
   "outputs": [],
   "source": [
    "# checking marital relationship with term deposit\n",
    "plt.figure(figsize=(18,5))\n",
    "sns.catplot(x=\"housing\", hue=\"term_deposit\", col=\"loan\",data=raw_train, kind=\"count\")"
   ]
  },
  {
   "cell_type": "code",
   "execution_count": null,
   "metadata": {},
   "outputs": [],
   "source": [
    "# checking contact relationship with term deposit\n",
    "plt.figure(figsize=(15,5))\n",
    "sns.countplot(y=\"contact\", hue=\"term_deposit\", data=raw_train)"
   ]
  },
  {
   "cell_type": "code",
   "execution_count": null,
   "metadata": {},
   "outputs": [],
   "source": [
    "# checking month relationship with term deposit\n",
    "plt.figure(figsize=(15,5))\n",
    "sns.countplot(y=\"month\", hue=\"term_deposit\", data=raw_train)"
   ]
  },
  {
   "cell_type": "code",
   "execution_count": null,
   "metadata": {},
   "outputs": [],
   "source": [
    "# checking poutcome relationship with term deposit\n",
    "plt.figure(figsize=(15,5))\n",
    "sns.countplot(y=\"poutcome\", hue=\"term_deposit\", data=raw_train)"
   ]
  },
  {
   "cell_type": "markdown",
   "metadata": {},
   "source": [
    "## Data Cleaning"
   ]
  },
  {
   "cell_type": "code",
   "execution_count": null,
   "metadata": {},
   "outputs": [],
   "source": [
    "# create copy of raw train to clean train data frame to store clean values\n",
    "clean_train = raw_train.copy()"
   ]
  },
  {
   "cell_type": "code",
   "execution_count": null,
   "metadata": {},
   "outputs": [],
   "source": [
    "class DataCleaner(BaseEstimator, TransformerMixin):\n",
    "    def __init__(self): \n",
    "        pass #do nothing\n",
    "    \n",
    "    def fit(self, X, y=None):\n",
    "        \n",
    "        # computing mode for job variable to replace the unknown job with the mode of job\n",
    "        self.job_mode = X['job'].mode()\n",
    "        return self \n",
    "    \n",
    "    def transform(self, X, y=None):\n",
    "        \n",
    "        # converting  negative balance to 0 balance and taking log transformation as data is highly skewed\n",
    "        X.loc[X['balance']<0,'balance'] = 0\n",
    "        X['balance'] = np.log(X['balance']+1)\n",
    "        \n",
    "        # replace unknown job code with mode of job\n",
    "        X.loc[X['job']== 'unknown','job'] = X['job'].mode()\n",
    "        \n",
    "        # for poutcome combining other outcome to unknown outcome\n",
    "        X.loc[X['poutcome']== 'other','poutcome'] = 'unknown'\n",
    "        \n",
    "        # converting pdays to binary column to indicate whether the last time bank was able to contact the customer or not\n",
    "        # negative pdays means no contact and postive indiacate days passed since last contact\n",
    "        X['pdays'] = (X['pdays'] < 0).astype(int)\n",
    "        \n",
    "        # convert default variable into binary variable\n",
    "        X['default'] = (X['default'] == 'yes').astype(int)\n",
    "        \n",
    "        # convert housing variable into binary variable\n",
    "        X['housing'] = (X['housing'] == 'yes').astype(int)  \n",
    "        \n",
    "        # convert loan variable into binary variable\n",
    "        X['loan'] = (X['loan'] == 'yes').astype(int)     \n",
    "        \n",
    "        return X"
   ]
  },
  {
   "cell_type": "code",
   "execution_count": null,
   "metadata": {},
   "outputs": [],
   "source": [
    "# creating data cleaner object\n",
    "data_cleaner = DataCleaner()\n",
    "\n",
    "# cleaning train data\n",
    "clean_train = data_cleaner.fit_transform(clean_train)"
   ]
  },
  {
   "cell_type": "code",
   "execution_count": null,
   "metadata": {},
   "outputs": [],
   "source": [
    "clean_train.head(3)"
   ]
  },
  {
   "cell_type": "markdown",
   "metadata": {},
   "source": [
    "## Data Transformation"
   ]
  },
  {
   "cell_type": "code",
   "execution_count": 35,
   "metadata": {},
   "outputs": [],
   "source": [
    "class DataTransformer(BaseEstimator, TransformerMixin):\n",
    "    def __init__(self,cat_col,num_col,bin_col): \n",
    "        \n",
    "        # define one hot encoder to encode categorical colum and drop the first category\n",
    "        self.encoder = OneHotEncoder(drop='first')\n",
    "        \n",
    "        # define standard scaler to scale the numerical data\n",
    "        self.scaler = StandardScaler()\n",
    "        \n",
    "        # stores all the numerical attribute\n",
    "        self.num_col = num_col\n",
    "        \n",
    "        # stores all the categorical attribute\n",
    "        self.cat_col = cat_col\n",
    "        \n",
    "        # stores all binary attribute\n",
    "        self.bin_col = bin_col\n",
    "        \n",
    "        return \n",
    "    \n",
    "    def fit(self, X, y=None):\n",
    "        \n",
    "        # fit one hot encoder on categorical attributes\n",
    "        self.encoder.fit(X[self.cat_col])\n",
    "        \n",
    "        # fit standard scaler on numerical attributes\n",
    "        self.scaler.fit(X[self.num_col])\n",
    "    \n",
    "        # rename the one hot encoder feature name with orignal feature name prefix\n",
    "        self.enc_features =  self.encoder.get_feature_names()\n",
    "        \n",
    "        for idx, col in enumerate(self.cat_col):\n",
    "            # replacing x in x0,x1,x2 with actual features name for better readability\n",
    "            self.enc_features = [feature.replace(f\"x{idx}\",f\"{col}\") for feature in self.enc_features]\n",
    "       \n",
    "        return self \n",
    "    \n",
    "    def transform(self, X, y=None):\n",
    "        \n",
    "        # transforming categorical columns\n",
    "        enc_array = self.encoder.transform(X[self.cat_col])\n",
    "        \n",
    "        # converting encoder array into data frame\n",
    "        enc_df = pd.DataFrame(enc_array.todense(),columns=self.enc_features,index=X.index)\n",
    "        \n",
    "        # transforming numerical columns\n",
    "        scaler_array = self.scaler.transform(X[self.num_col])\n",
    "        \n",
    "        # converting scaler array into scaler dataframe\n",
    "        scaler_df = pd.DataFrame(scaler_array,columns=self.num_col,index=X.index)\n",
    "        \n",
    "        # binary col data frame\n",
    "        binary_df = X[self.bin_col]\n",
    "        \n",
    "        # concatenating scaler df, binary df and encoder df to create final transformed data frame\n",
    "        transform_df = pd.concat([scaler_df,binary_df,enc_df],axis=1,ignore_index=False,sort=False)\n",
    "\n",
    "        return transform_df"
   ]
  },
  {
   "cell_type": "code",
   "execution_count": 36,
   "metadata": {},
   "outputs": [
    {
     "data": {
      "text/html": [
       "<div>\n",
       "<style scoped>\n",
       "    .dataframe tbody tr th:only-of-type {\n",
       "        vertical-align: middle;\n",
       "    }\n",
       "\n",
       "    .dataframe tbody tr th {\n",
       "        vertical-align: top;\n",
       "    }\n",
       "\n",
       "    .dataframe thead th {\n",
       "        text-align: right;\n",
       "    }\n",
       "</style>\n",
       "<table border=\"1\" class=\"dataframe\">\n",
       "  <thead>\n",
       "    <tr style=\"text-align: right;\">\n",
       "      <th></th>\n",
       "      <th>age</th>\n",
       "      <th>balance</th>\n",
       "      <th>day</th>\n",
       "      <th>campaign</th>\n",
       "      <th>previous</th>\n",
       "      <th>default</th>\n",
       "      <th>housing</th>\n",
       "      <th>loan</th>\n",
       "      <th>pdays</th>\n",
       "      <th>job_blue-collar</th>\n",
       "      <th>job_entrepreneur</th>\n",
       "      <th>job_housemaid</th>\n",
       "      <th>job_management</th>\n",
       "      <th>job_retired</th>\n",
       "      <th>job_self-employed</th>\n",
       "      <th>job_services</th>\n",
       "      <th>job_student</th>\n",
       "      <th>job_technician</th>\n",
       "      <th>job_unemployed</th>\n",
       "      <th>job_nan</th>\n",
       "      <th>marital_married</th>\n",
       "      <th>marital_single</th>\n",
       "      <th>education_secondary</th>\n",
       "      <th>education_tertiary</th>\n",
       "      <th>education_unknown</th>\n",
       "      <th>contact_telephone</th>\n",
       "      <th>contact_unknown</th>\n",
       "      <th>month_aug</th>\n",
       "      <th>month_dec</th>\n",
       "      <th>month_feb</th>\n",
       "      <th>month_jan</th>\n",
       "      <th>month_jul</th>\n",
       "      <th>month_jun</th>\n",
       "      <th>month_mar</th>\n",
       "      <th>month_may</th>\n",
       "      <th>month_nov</th>\n",
       "      <th>month_oct</th>\n",
       "      <th>month_sep</th>\n",
       "      <th>poutcome_success</th>\n",
       "      <th>poutcome_unknown</th>\n",
       "    </tr>\n",
       "  </thead>\n",
       "  <tbody>\n",
       "    <tr>\n",
       "      <th>24001</th>\n",
       "      <td>-0.460434</td>\n",
       "      <td>0.516310</td>\n",
       "      <td>1.582124</td>\n",
       "      <td>-0.246104</td>\n",
       "      <td>-0.241509</td>\n",
       "      <td>0</td>\n",
       "      <td>0</td>\n",
       "      <td>0</td>\n",
       "      <td>1</td>\n",
       "      <td>0.0</td>\n",
       "      <td>0.0</td>\n",
       "      <td>0.0</td>\n",
       "      <td>0.0</td>\n",
       "      <td>0.0</td>\n",
       "      <td>0.0</td>\n",
       "      <td>0.0</td>\n",
       "      <td>0.0</td>\n",
       "      <td>1.0</td>\n",
       "      <td>0.0</td>\n",
       "      <td>0.0</td>\n",
       "      <td>0.0</td>\n",
       "      <td>0.0</td>\n",
       "      <td>1.0</td>\n",
       "      <td>0.0</td>\n",
       "      <td>0.0</td>\n",
       "      <td>1.0</td>\n",
       "      <td>0.0</td>\n",
       "      <td>1.0</td>\n",
       "      <td>0.0</td>\n",
       "      <td>0.0</td>\n",
       "      <td>0.0</td>\n",
       "      <td>0.0</td>\n",
       "      <td>0.0</td>\n",
       "      <td>0.0</td>\n",
       "      <td>0.0</td>\n",
       "      <td>0.0</td>\n",
       "      <td>0.0</td>\n",
       "      <td>0.0</td>\n",
       "      <td>0.0</td>\n",
       "      <td>1.0</td>\n",
       "    </tr>\n",
       "    <tr>\n",
       "      <th>43409</th>\n",
       "      <td>-1.589641</td>\n",
       "      <td>1.078836</td>\n",
       "      <td>-1.298384</td>\n",
       "      <td>0.398202</td>\n",
       "      <td>2.664584</td>\n",
       "      <td>0</td>\n",
       "      <td>0</td>\n",
       "      <td>0</td>\n",
       "      <td>0</td>\n",
       "      <td>0.0</td>\n",
       "      <td>0.0</td>\n",
       "      <td>0.0</td>\n",
       "      <td>0.0</td>\n",
       "      <td>0.0</td>\n",
       "      <td>0.0</td>\n",
       "      <td>0.0</td>\n",
       "      <td>1.0</td>\n",
       "      <td>0.0</td>\n",
       "      <td>0.0</td>\n",
       "      <td>0.0</td>\n",
       "      <td>0.0</td>\n",
       "      <td>1.0</td>\n",
       "      <td>1.0</td>\n",
       "      <td>0.0</td>\n",
       "      <td>0.0</td>\n",
       "      <td>0.0</td>\n",
       "      <td>0.0</td>\n",
       "      <td>0.0</td>\n",
       "      <td>0.0</td>\n",
       "      <td>0.0</td>\n",
       "      <td>0.0</td>\n",
       "      <td>0.0</td>\n",
       "      <td>0.0</td>\n",
       "      <td>0.0</td>\n",
       "      <td>0.0</td>\n",
       "      <td>0.0</td>\n",
       "      <td>0.0</td>\n",
       "      <td>0.0</td>\n",
       "      <td>0.0</td>\n",
       "      <td>0.0</td>\n",
       "    </tr>\n",
       "    <tr>\n",
       "      <th>20669</th>\n",
       "      <td>0.292371</td>\n",
       "      <td>0.064437</td>\n",
       "      <td>-0.458236</td>\n",
       "      <td>0.398202</td>\n",
       "      <td>-0.241509</td>\n",
       "      <td>0</td>\n",
       "      <td>1</td>\n",
       "      <td>0</td>\n",
       "      <td>1</td>\n",
       "      <td>0.0</td>\n",
       "      <td>0.0</td>\n",
       "      <td>0.0</td>\n",
       "      <td>0.0</td>\n",
       "      <td>0.0</td>\n",
       "      <td>0.0</td>\n",
       "      <td>0.0</td>\n",
       "      <td>0.0</td>\n",
       "      <td>1.0</td>\n",
       "      <td>0.0</td>\n",
       "      <td>0.0</td>\n",
       "      <td>0.0</td>\n",
       "      <td>1.0</td>\n",
       "      <td>1.0</td>\n",
       "      <td>0.0</td>\n",
       "      <td>0.0</td>\n",
       "      <td>0.0</td>\n",
       "      <td>0.0</td>\n",
       "      <td>1.0</td>\n",
       "      <td>0.0</td>\n",
       "      <td>0.0</td>\n",
       "      <td>0.0</td>\n",
       "      <td>0.0</td>\n",
       "      <td>0.0</td>\n",
       "      <td>0.0</td>\n",
       "      <td>0.0</td>\n",
       "      <td>0.0</td>\n",
       "      <td>0.0</td>\n",
       "      <td>0.0</td>\n",
       "      <td>0.0</td>\n",
       "      <td>1.0</td>\n",
       "    </tr>\n",
       "  </tbody>\n",
       "</table>\n",
       "</div>"
      ],
      "text/plain": [
       "            age   balance       day  campaign  previous  default  housing  \\\n",
       "24001 -0.460434  0.516310  1.582124 -0.246104 -0.241509        0        0   \n",
       "43409 -1.589641  1.078836 -1.298384  0.398202  2.664584        0        0   \n",
       "20669  0.292371  0.064437 -0.458236  0.398202 -0.241509        0        1   \n",
       "\n",
       "       loan  pdays  job_blue-collar  job_entrepreneur  job_housemaid  \\\n",
       "24001     0      1              0.0               0.0            0.0   \n",
       "43409     0      0              0.0               0.0            0.0   \n",
       "20669     0      1              0.0               0.0            0.0   \n",
       "\n",
       "       job_management  job_retired  job_self-employed  job_services  \\\n",
       "24001             0.0          0.0                0.0           0.0   \n",
       "43409             0.0          0.0                0.0           0.0   \n",
       "20669             0.0          0.0                0.0           0.0   \n",
       "\n",
       "       job_student  job_technician  job_unemployed  job_nan  marital_married  \\\n",
       "24001          0.0             1.0             0.0      0.0              0.0   \n",
       "43409          1.0             0.0             0.0      0.0              0.0   \n",
       "20669          0.0             1.0             0.0      0.0              0.0   \n",
       "\n",
       "       marital_single  education_secondary  education_tertiary  \\\n",
       "24001             0.0                  1.0                 0.0   \n",
       "43409             1.0                  1.0                 0.0   \n",
       "20669             1.0                  1.0                 0.0   \n",
       "\n",
       "       education_unknown  contact_telephone  contact_unknown  month_aug  \\\n",
       "24001                0.0                1.0              0.0        1.0   \n",
       "43409                0.0                0.0              0.0        0.0   \n",
       "20669                0.0                0.0              0.0        1.0   \n",
       "\n",
       "       month_dec  month_feb  month_jan  month_jul  month_jun  month_mar  \\\n",
       "24001        0.0        0.0        0.0        0.0        0.0        0.0   \n",
       "43409        0.0        0.0        0.0        0.0        0.0        0.0   \n",
       "20669        0.0        0.0        0.0        0.0        0.0        0.0   \n",
       "\n",
       "       month_may  month_nov  month_oct  month_sep  poutcome_success  \\\n",
       "24001        0.0        0.0        0.0        0.0               0.0   \n",
       "43409        0.0        0.0        0.0        0.0               0.0   \n",
       "20669        0.0        0.0        0.0        0.0               0.0   \n",
       "\n",
       "       poutcome_unknown  \n",
       "24001               1.0  \n",
       "43409               0.0  \n",
       "20669               1.0  "
      ]
     },
     "execution_count": 36,
     "metadata": {},
     "output_type": "execute_result"
    }
   ],
   "source": [
    "# define numerical, categorical and binary column list\n",
    "num_col = ['age','balance','day','campaign','previous']\n",
    "cat_col = ['job','marital','education','contact','month','poutcome']\n",
    "bin_col = ['default','housing','loan','pdays']\n",
    "\n",
    "# create data transformation object to transform categorical and numerical column\n",
    "data_transform = DataTransformer(cat_col,num_col,bin_col)\n",
    "\n",
    "# transform training data\n",
    "x_train = data_transform.fit_transform(clean_train)\n",
    "\n",
    "x_train.head(3)"
   ]
  },
  {
   "cell_type": "code",
   "execution_count": 37,
   "metadata": {},
   "outputs": [
    {
     "data": {
      "text/plain": [
       "24001    0\n",
       "43409    1\n",
       "20669    1\n",
       "Name: term_deposit, dtype: int32"
      ]
     },
     "execution_count": 37,
     "metadata": {},
     "output_type": "execute_result"
    }
   ],
   "source": [
    "# converting term deposit to binary variable \n",
    "y_train = (clean_train['term_deposit'] == 'yes').astype(int)\n",
    "y_train.head(3)"
   ]
  },
  {
   "cell_type": "markdown",
   "metadata": {},
   "source": [
    "## Prepare Test Data"
   ]
  },
  {
   "cell_type": "code",
   "execution_count": 38,
   "metadata": {},
   "outputs": [],
   "source": [
    "# copy raw test data to clean_test dataframe to store clean values\n",
    "clean_test = raw_test.copy()\n",
    "\n",
    "# cleaning test data\n",
    "clean_train = data_cleaner.transform(clean_test)\n",
    "\n",
    "# transform test data\n",
    "x_test = data_transform.fit_transform(clean_test)"
   ]
  },
  {
   "cell_type": "code",
   "execution_count": 39,
   "metadata": {},
   "outputs": [
    {
     "data": {
      "text/html": [
       "<div>\n",
       "<style scoped>\n",
       "    .dataframe tbody tr th:only-of-type {\n",
       "        vertical-align: middle;\n",
       "    }\n",
       "\n",
       "    .dataframe tbody tr th {\n",
       "        vertical-align: top;\n",
       "    }\n",
       "\n",
       "    .dataframe thead th {\n",
       "        text-align: right;\n",
       "    }\n",
       "</style>\n",
       "<table border=\"1\" class=\"dataframe\">\n",
       "  <thead>\n",
       "    <tr style=\"text-align: right;\">\n",
       "      <th></th>\n",
       "      <th>age</th>\n",
       "      <th>balance</th>\n",
       "      <th>day</th>\n",
       "      <th>campaign</th>\n",
       "      <th>previous</th>\n",
       "      <th>default</th>\n",
       "      <th>housing</th>\n",
       "      <th>loan</th>\n",
       "      <th>pdays</th>\n",
       "      <th>job_blue-collar</th>\n",
       "      <th>job_entrepreneur</th>\n",
       "      <th>job_housemaid</th>\n",
       "      <th>job_management</th>\n",
       "      <th>job_retired</th>\n",
       "      <th>job_self-employed</th>\n",
       "      <th>job_services</th>\n",
       "      <th>job_student</th>\n",
       "      <th>job_technician</th>\n",
       "      <th>job_unemployed</th>\n",
       "      <th>job_nan</th>\n",
       "      <th>marital_married</th>\n",
       "      <th>marital_single</th>\n",
       "      <th>education_secondary</th>\n",
       "      <th>education_tertiary</th>\n",
       "      <th>education_unknown</th>\n",
       "      <th>contact_telephone</th>\n",
       "      <th>contact_unknown</th>\n",
       "      <th>month_aug</th>\n",
       "      <th>month_dec</th>\n",
       "      <th>month_feb</th>\n",
       "      <th>month_jan</th>\n",
       "      <th>month_jul</th>\n",
       "      <th>month_jun</th>\n",
       "      <th>month_mar</th>\n",
       "      <th>month_may</th>\n",
       "      <th>month_nov</th>\n",
       "      <th>month_oct</th>\n",
       "      <th>month_sep</th>\n",
       "      <th>poutcome_success</th>\n",
       "      <th>poutcome_unknown</th>\n",
       "    </tr>\n",
       "  </thead>\n",
       "  <tbody>\n",
       "    <tr>\n",
       "      <th>1392</th>\n",
       "      <td>-0.104787</td>\n",
       "      <td>0.418666</td>\n",
       "      <td>-0.936754</td>\n",
       "      <td>-0.248415</td>\n",
       "      <td>-0.315367</td>\n",
       "      <td>0</td>\n",
       "      <td>1</td>\n",
       "      <td>1</td>\n",
       "      <td>1</td>\n",
       "      <td>1.0</td>\n",
       "      <td>0.0</td>\n",
       "      <td>0.0</td>\n",
       "      <td>0.0</td>\n",
       "      <td>0.0</td>\n",
       "      <td>0.0</td>\n",
       "      <td>0.0</td>\n",
       "      <td>0.0</td>\n",
       "      <td>0.0</td>\n",
       "      <td>0.0</td>\n",
       "      <td>0.0</td>\n",
       "      <td>1.0</td>\n",
       "      <td>0.0</td>\n",
       "      <td>0.0</td>\n",
       "      <td>0.0</td>\n",
       "      <td>0.0</td>\n",
       "      <td>0.0</td>\n",
       "      <td>1.0</td>\n",
       "      <td>0.0</td>\n",
       "      <td>0.0</td>\n",
       "      <td>0.0</td>\n",
       "      <td>0.0</td>\n",
       "      <td>0.0</td>\n",
       "      <td>0.0</td>\n",
       "      <td>0.0</td>\n",
       "      <td>1.0</td>\n",
       "      <td>0.0</td>\n",
       "      <td>0.0</td>\n",
       "      <td>0.0</td>\n",
       "      <td>0.0</td>\n",
       "      <td>1.0</td>\n",
       "    </tr>\n",
       "    <tr>\n",
       "      <th>7518</th>\n",
       "      <td>0.273153</td>\n",
       "      <td>0.230517</td>\n",
       "      <td>1.718905</td>\n",
       "      <td>-0.248415</td>\n",
       "      <td>-0.315367</td>\n",
       "      <td>0</td>\n",
       "      <td>1</td>\n",
       "      <td>0</td>\n",
       "      <td>1</td>\n",
       "      <td>0.0</td>\n",
       "      <td>0.0</td>\n",
       "      <td>0.0</td>\n",
       "      <td>0.0</td>\n",
       "      <td>0.0</td>\n",
       "      <td>0.0</td>\n",
       "      <td>0.0</td>\n",
       "      <td>0.0</td>\n",
       "      <td>1.0</td>\n",
       "      <td>0.0</td>\n",
       "      <td>0.0</td>\n",
       "      <td>1.0</td>\n",
       "      <td>0.0</td>\n",
       "      <td>1.0</td>\n",
       "      <td>0.0</td>\n",
       "      <td>0.0</td>\n",
       "      <td>0.0</td>\n",
       "      <td>1.0</td>\n",
       "      <td>0.0</td>\n",
       "      <td>0.0</td>\n",
       "      <td>0.0</td>\n",
       "      <td>0.0</td>\n",
       "      <td>0.0</td>\n",
       "      <td>0.0</td>\n",
       "      <td>0.0</td>\n",
       "      <td>1.0</td>\n",
       "      <td>0.0</td>\n",
       "      <td>0.0</td>\n",
       "      <td>0.0</td>\n",
       "      <td>0.0</td>\n",
       "      <td>1.0</td>\n",
       "    </tr>\n",
       "    <tr>\n",
       "      <th>12007</th>\n",
       "      <td>-0.955152</td>\n",
       "      <td>0.209106</td>\n",
       "      <td>0.511787</td>\n",
       "      <td>0.727721</td>\n",
       "      <td>-0.315367</td>\n",
       "      <td>0</td>\n",
       "      <td>1</td>\n",
       "      <td>0</td>\n",
       "      <td>1</td>\n",
       "      <td>0.0</td>\n",
       "      <td>0.0</td>\n",
       "      <td>0.0</td>\n",
       "      <td>0.0</td>\n",
       "      <td>0.0</td>\n",
       "      <td>0.0</td>\n",
       "      <td>1.0</td>\n",
       "      <td>0.0</td>\n",
       "      <td>0.0</td>\n",
       "      <td>0.0</td>\n",
       "      <td>0.0</td>\n",
       "      <td>1.0</td>\n",
       "      <td>0.0</td>\n",
       "      <td>1.0</td>\n",
       "      <td>0.0</td>\n",
       "      <td>0.0</td>\n",
       "      <td>0.0</td>\n",
       "      <td>1.0</td>\n",
       "      <td>0.0</td>\n",
       "      <td>0.0</td>\n",
       "      <td>0.0</td>\n",
       "      <td>0.0</td>\n",
       "      <td>0.0</td>\n",
       "      <td>1.0</td>\n",
       "      <td>0.0</td>\n",
       "      <td>0.0</td>\n",
       "      <td>0.0</td>\n",
       "      <td>0.0</td>\n",
       "      <td>0.0</td>\n",
       "      <td>0.0</td>\n",
       "      <td>1.0</td>\n",
       "    </tr>\n",
       "  </tbody>\n",
       "</table>\n",
       "</div>"
      ],
      "text/plain": [
       "            age   balance       day  campaign  previous  default  housing  \\\n",
       "1392  -0.104787  0.418666 -0.936754 -0.248415 -0.315367        0        1   \n",
       "7518   0.273153  0.230517  1.718905 -0.248415 -0.315367        0        1   \n",
       "12007 -0.955152  0.209106  0.511787  0.727721 -0.315367        0        1   \n",
       "\n",
       "       loan  pdays  job_blue-collar  job_entrepreneur  job_housemaid  \\\n",
       "1392      1      1              1.0               0.0            0.0   \n",
       "7518      0      1              0.0               0.0            0.0   \n",
       "12007     0      1              0.0               0.0            0.0   \n",
       "\n",
       "       job_management  job_retired  job_self-employed  job_services  \\\n",
       "1392              0.0          0.0                0.0           0.0   \n",
       "7518              0.0          0.0                0.0           0.0   \n",
       "12007             0.0          0.0                0.0           1.0   \n",
       "\n",
       "       job_student  job_technician  job_unemployed  job_nan  marital_married  \\\n",
       "1392           0.0             0.0             0.0      0.0              1.0   \n",
       "7518           0.0             1.0             0.0      0.0              1.0   \n",
       "12007          0.0             0.0             0.0      0.0              1.0   \n",
       "\n",
       "       marital_single  education_secondary  education_tertiary  \\\n",
       "1392              0.0                  0.0                 0.0   \n",
       "7518              0.0                  1.0                 0.0   \n",
       "12007             0.0                  1.0                 0.0   \n",
       "\n",
       "       education_unknown  contact_telephone  contact_unknown  month_aug  \\\n",
       "1392                 0.0                0.0              1.0        0.0   \n",
       "7518                 0.0                0.0              1.0        0.0   \n",
       "12007                0.0                0.0              1.0        0.0   \n",
       "\n",
       "       month_dec  month_feb  month_jan  month_jul  month_jun  month_mar  \\\n",
       "1392         0.0        0.0        0.0        0.0        0.0        0.0   \n",
       "7518         0.0        0.0        0.0        0.0        0.0        0.0   \n",
       "12007        0.0        0.0        0.0        0.0        1.0        0.0   \n",
       "\n",
       "       month_may  month_nov  month_oct  month_sep  poutcome_success  \\\n",
       "1392         1.0        0.0        0.0        0.0               0.0   \n",
       "7518         1.0        0.0        0.0        0.0               0.0   \n",
       "12007        0.0        0.0        0.0        0.0               0.0   \n",
       "\n",
       "       poutcome_unknown  \n",
       "1392                1.0  \n",
       "7518                1.0  \n",
       "12007               1.0  "
      ]
     },
     "execution_count": 39,
     "metadata": {},
     "output_type": "execute_result"
    }
   ],
   "source": [
    "x_test.head(3)"
   ]
  },
  {
   "cell_type": "code",
   "execution_count": 40,
   "metadata": {},
   "outputs": [
    {
     "data": {
      "text/plain": [
       "1392     0\n",
       "7518     0\n",
       "12007    0\n",
       "Name: term_deposit, dtype: int32"
      ]
     },
     "execution_count": 40,
     "metadata": {},
     "output_type": "execute_result"
    }
   ],
   "source": [
    "# converting term deposit to binary variable \n",
    "y_test = (clean_test['term_deposit'] == 'yes').astype(int)\n",
    "y_test.head(3)"
   ]
  },
  {
   "cell_type": "markdown",
   "metadata": {},
   "source": [
    "## ML Classification Model Fitting"
   ]
  },
  {
   "cell_type": "markdown",
   "metadata": {},
   "source": [
    "### Model 1 - Logistic Regression"
   ]
  },
  {
   "cell_type": "code",
   "execution_count": 41,
   "metadata": {},
   "outputs": [
    {
     "name": "stdout",
     "output_type": "stream",
     "text": [
      "              precision    recall  f1-score   support\n",
      "\n",
      "           0       0.94      0.77      0.85     31937\n",
      "           1       0.27      0.64      0.38      4231\n",
      "\n",
      "    accuracy                           0.75     36168\n",
      "   macro avg       0.60      0.70      0.61     36168\n",
      "weighted avg       0.86      0.75      0.79     36168\n",
      "\n"
     ]
    }
   ],
   "source": [
    "# define model\n",
    "logistic_clf = LogisticRegression(random_state=10,class_weight='balanced')\n",
    "\n",
    "# fit model on training data\n",
    "logistic_clf.fit(x_train,y_train)\n",
    "\n",
    "# check prediction performance on training data\n",
    "print(classification_report(y_train, logistic_clf.predict(x_train)))"
   ]
  },
  {
   "cell_type": "code",
   "execution_count": 42,
   "metadata": {},
   "outputs": [
    {
     "name": "stdout",
     "output_type": "stream",
     "text": [
      "              precision    recall  f1-score   support\n",
      "\n",
      "           0       0.94      0.77      0.85      7985\n",
      "           1       0.27      0.65      0.38      1058\n",
      "\n",
      "    accuracy                           0.75      9043\n",
      "   macro avg       0.61      0.71      0.61      9043\n",
      "weighted avg       0.86      0.75      0.79      9043\n",
      "\n"
     ]
    }
   ],
   "source": [
    "# check prediction performance on test data\n",
    "print(classification_report(y_test, logistic_clf.predict(x_test)))"
   ]
  },
  {
   "cell_type": "code",
   "execution_count": 43,
   "metadata": {},
   "outputs": [
    {
     "data": {
      "text/plain": [
       "<matplotlib.axes._subplots.AxesSubplot at 0x1a283c90fd0>"
      ]
     },
     "execution_count": 43,
     "metadata": {},
     "output_type": "execute_result"
    },
    {
     "data": {
      "image/png": "[encoded data removed]",
      "text/plain": [
       "<Figure size 720x432 with 2 Axes>"
      ]
     },
     "metadata": {
      "needs_background": "light"
     },
     "output_type": "display_data"
    }
   ],
   "source": [
    "# confusion matrxi on test data\n",
    "cf_matrix = confusion_matrix(y_test, logistic_clf.predict(x_test))\n",
    "\n",
    "# plot confusion matrix\n",
    "plt.figure(figsize=(10,6))\n",
    "sns. set(font_scale=1.4)\n",
    "sns.heatmap(cf_matrix, annot=True,fmt='g')"
   ]
  },
  {
   "cell_type": "markdown",
   "metadata": {},
   "source": [
    "## Model 2 SVM Classifier"
   ]
  },
  {
   "cell_type": "code",
   "execution_count": 44,
   "metadata": {},
   "outputs": [
    {
     "name": "stdout",
     "output_type": "stream",
     "text": [
      "              precision    recall  f1-score   support\n",
      "\n",
      "           0       0.94      0.86      0.90     31937\n",
      "           1       0.36      0.61      0.45      4231\n",
      "\n",
      "    accuracy                           0.83     36168\n",
      "   macro avg       0.65      0.73      0.68     36168\n",
      "weighted avg       0.88      0.83      0.85     36168\n",
      "\n"
     ]
    }
   ],
   "source": [
    "# define svm classifier with polynomial kernel\n",
    "svm_clf = SVC(kernel='poly',class_weight='balanced',degree=2)\n",
    "\n",
    "# fit model on training data\n",
    "svm_clf.fit(x_train,y_train)\n",
    "\n",
    "# check prediction performance on training data\n",
    "print(classification_report(y_train, svm_clf.predict(x_train)))"
   ]
  },
  {
   "cell_type": "code",
   "execution_count": 45,
   "metadata": {},
   "outputs": [
    {
     "name": "stdout",
     "output_type": "stream",
     "text": [
      "              precision    recall  f1-score   support\n",
      "\n",
      "           0       0.94      0.86      0.90      7985\n",
      "           1       0.36      0.60      0.45      1058\n",
      "\n",
      "    accuracy                           0.83      9043\n",
      "   macro avg       0.65      0.73      0.67      9043\n",
      "weighted avg       0.87      0.83      0.85      9043\n",
      "\n"
     ]
    }
   ],
   "source": [
    "# check prediction performance on test data\n",
    "print(classification_report(y_test, svm_clf.predict(x_test)))"
   ]
  },
  {
   "cell_type": "code",
   "execution_count": 46,
   "metadata": {},
   "outputs": [
    {
     "data": {
      "text/plain": [
       "<matplotlib.axes._subplots.AxesSubplot at 0x1a284e83240>"
      ]
     },
     "execution_count": 46,
     "metadata": {},
     "output_type": "execute_result"
    },
    {
     "data": {
      "image/png": "[encoded data removed]",
      "text/plain": [
       "<Figure size 720x432 with 2 Axes>"
      ]
     },
     "metadata": {},
     "output_type": "display_data"
    }
   ],
   "source": [
    "# confusion matrxi on test data\n",
    "cf_matrix = confusion_matrix(y_test, svm_clf.predict(x_test))\n",
    "\n",
    "# plot confusion matrix\n",
    "plt.figure(figsize=(10,6))\n",
    "sns. set(font_scale=1.4)\n",
    "sns.heatmap(cf_matrix, annot=True,fmt='g')"
   ]
  },
  {
   "cell_type": "markdown",
   "metadata": {},
   "source": [
    "### Model 3 Random Forest"
   ]
  },
  {
   "cell_type": "code",
   "execution_count": 47,
   "metadata": {},
   "outputs": [
    {
     "name": "stdout",
     "output_type": "stream",
     "text": [
      "              precision    recall  f1-score   support\n",
      "\n",
      "           0       0.94      0.83      0.88     31937\n",
      "           1       0.33      0.63      0.43      4231\n",
      "\n",
      "    accuracy                           0.81     36168\n",
      "   macro avg       0.64      0.73      0.66     36168\n",
      "weighted avg       0.87      0.81      0.83     36168\n",
      "\n"
     ]
    }
   ],
   "source": [
    "# define random forest classifier\n",
    "forest_clf = RandomForestClassifier(max_depth=7,n_estimators=200, random_state=12,class_weight='balanced')\n",
    "\n",
    "# fit model on training data\n",
    "forest_clf.fit(x_train,y_train)\n",
    "\n",
    "# check prediction performance on training data\n",
    "print(classification_report(y_train, forest_clf.predict(x_train)))"
   ]
  },
  {
   "cell_type": "code",
   "execution_count": 48,
   "metadata": {},
   "outputs": [
    {
     "name": "stdout",
     "output_type": "stream",
     "text": [
      "              precision    recall  f1-score   support\n",
      "\n",
      "           0       0.94      0.82      0.88      7985\n",
      "           1       0.31      0.61      0.41      1058\n",
      "\n",
      "    accuracy                           0.80      9043\n",
      "   macro avg       0.63      0.72      0.64      9043\n",
      "weighted avg       0.87      0.80      0.82      9043\n",
      "\n"
     ]
    }
   ],
   "source": [
    "# check prediction performance on test data\n",
    "print(classification_report(y_test, forest_clf.predict(x_test)))"
   ]
  },
  {
   "cell_type": "code",
   "execution_count": 49,
   "metadata": {},
   "outputs": [
    {
     "data": {
      "text/plain": [
       "<matplotlib.axes._subplots.AxesSubplot at 0x1a284db22e8>"
      ]
     },
     "execution_count": 49,
     "metadata": {},
     "output_type": "execute_result"
    },
    {
     "data": {
      "image/png": "[encoded data removed]",
      "text/plain": [
       "<Figure size 720x432 with 2 Axes>"
      ]
     },
     "metadata": {},
     "output_type": "display_data"
    }
   ],
   "source": [
    "# confusion matrxi on test data\n",
    "cf_matrix = confusion_matrix(y_test, forest_clf.predict(x_test))\n",
    "\n",
    "# plot confusion matrix\n",
    "plt.figure(figsize=(10,6))\n",
    "sns. set(font_scale=1.4)\n",
    "sns.heatmap(cf_matrix, annot=True,fmt='g')"
   ]
  },
  {
   "cell_type": "markdown",
   "metadata": {},
   "source": [
    "# Conlcusion\n",
    "##### Out of the three machine learning algorithms trained, Support vector machine with polynomial kernel is best algorithm which is relatively better than the other two model in correctly predicting the positive class"
   ]
  },
  {
   "cell_type": "code",
   "execution_count": null,
   "metadata": {},
   "outputs": [],
   "source": []
  }
 ],
 "metadata": {
  "kernelspec": {
   "display_name": "Python 3",
   "language": "python",
   "name": "python3"
  },
  "language_info": {
   "codemirror_mode": {
    "name": "ipython",
    "version": 3
   },
   "file_extension": ".py",
   "mimetype": "text/x-python",
   "name": "python",
   "nbconvert_exporter": "python",
   "pygments_lexer": "ipython3",
   "version": "3.8.5"
  }
 },
 "nbformat": 4,
 "nbformat_minor": 2
}
